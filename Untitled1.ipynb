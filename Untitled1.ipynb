{
 "cells": [
  {
   "cell_type": "code",
   "execution_count": 1,
   "id": "e9b3c22e-a537-41d0-a20e-0c1b743ab095",
   "metadata": {},
   "outputs": [],
   "source": [
    "import pandas as pd"
   ]
  },
  {
   "cell_type": "code",
   "execution_count": 2,
   "id": "6d84f2c8-310e-4803-8cbf-3b6e4c6282a4",
   "metadata": {},
   "outputs": [],
   "source": [
    "df=pd.read_csv(\"ObesityDataSet.csv\")"
   ]
  },
  {
   "cell_type": "code",
   "execution_count": 3,
   "id": "0bcb2350-ad67-4fd4-930c-b9017ea9f317",
   "metadata": {},
   "outputs": [
    {
     "data": {
      "text/html": [
       "<div>\n",
       "<style scoped>\n",
       "    .dataframe tbody tr th:only-of-type {\n",
       "        vertical-align: middle;\n",
       "    }\n",
       "\n",
       "    .dataframe tbody tr th {\n",
       "        vertical-align: top;\n",
       "    }\n",
       "\n",
       "    .dataframe thead th {\n",
       "        text-align: right;\n",
       "    }\n",
       "</style>\n",
       "<table border=\"1\" class=\"dataframe\">\n",
       "  <thead>\n",
       "    <tr style=\"text-align: right;\">\n",
       "      <th></th>\n",
       "      <th>Gender</th>\n",
       "      <th>Age</th>\n",
       "      <th>Height</th>\n",
       "      <th>Weight</th>\n",
       "      <th>family_history_with_overweight</th>\n",
       "      <th>FAVC</th>\n",
       "      <th>FCVC</th>\n",
       "      <th>NCP</th>\n",
       "      <th>CAEC</th>\n",
       "      <th>SMOKE</th>\n",
       "      <th>CH2O</th>\n",
       "      <th>SCC</th>\n",
       "      <th>FAF</th>\n",
       "      <th>TUE</th>\n",
       "      <th>CALC</th>\n",
       "      <th>MTRANS</th>\n",
       "      <th>NObeyesdad</th>\n",
       "    </tr>\n",
       "  </thead>\n",
       "  <tbody>\n",
       "    <tr>\n",
       "      <th>0</th>\n",
       "      <td>Female</td>\n",
       "      <td>21</td>\n",
       "      <td>1.62</td>\n",
       "      <td>64.0</td>\n",
       "      <td>yes</td>\n",
       "      <td>no</td>\n",
       "      <td>2.0</td>\n",
       "      <td>3.0</td>\n",
       "      <td>Sometimes</td>\n",
       "      <td>no</td>\n",
       "      <td>2.0</td>\n",
       "      <td>no</td>\n",
       "      <td>0.0</td>\n",
       "      <td>1.0</td>\n",
       "      <td>no</td>\n",
       "      <td>Public_Transportation</td>\n",
       "      <td>Normal_Weight</td>\n",
       "    </tr>\n",
       "    <tr>\n",
       "      <th>1</th>\n",
       "      <td>Female</td>\n",
       "      <td>21</td>\n",
       "      <td>1.52</td>\n",
       "      <td>56.0</td>\n",
       "      <td>yes</td>\n",
       "      <td>no</td>\n",
       "      <td>3.0</td>\n",
       "      <td>3.0</td>\n",
       "      <td>Sometimes</td>\n",
       "      <td>yes</td>\n",
       "      <td>3.0</td>\n",
       "      <td>yes</td>\n",
       "      <td>3.0</td>\n",
       "      <td>0.0</td>\n",
       "      <td>Sometimes</td>\n",
       "      <td>Public_Transportation</td>\n",
       "      <td>Normal_Weight</td>\n",
       "    </tr>\n",
       "    <tr>\n",
       "      <th>2</th>\n",
       "      <td>Male</td>\n",
       "      <td>23</td>\n",
       "      <td>1.80</td>\n",
       "      <td>77.0</td>\n",
       "      <td>yes</td>\n",
       "      <td>no</td>\n",
       "      <td>2.0</td>\n",
       "      <td>3.0</td>\n",
       "      <td>Sometimes</td>\n",
       "      <td>no</td>\n",
       "      <td>2.0</td>\n",
       "      <td>no</td>\n",
       "      <td>2.0</td>\n",
       "      <td>1.0</td>\n",
       "      <td>Frequently</td>\n",
       "      <td>Public_Transportation</td>\n",
       "      <td>Normal_Weight</td>\n",
       "    </tr>\n",
       "    <tr>\n",
       "      <th>3</th>\n",
       "      <td>Male</td>\n",
       "      <td>27</td>\n",
       "      <td>1.80</td>\n",
       "      <td>87.0</td>\n",
       "      <td>no</td>\n",
       "      <td>no</td>\n",
       "      <td>3.0</td>\n",
       "      <td>3.0</td>\n",
       "      <td>Sometimes</td>\n",
       "      <td>no</td>\n",
       "      <td>2.0</td>\n",
       "      <td>no</td>\n",
       "      <td>2.0</td>\n",
       "      <td>0.0</td>\n",
       "      <td>Frequently</td>\n",
       "      <td>Walking</td>\n",
       "      <td>Overweight_Level_I</td>\n",
       "    </tr>\n",
       "    <tr>\n",
       "      <th>4</th>\n",
       "      <td>Male</td>\n",
       "      <td>22</td>\n",
       "      <td>1.78</td>\n",
       "      <td>89.8</td>\n",
       "      <td>no</td>\n",
       "      <td>no</td>\n",
       "      <td>2.0</td>\n",
       "      <td>1.0</td>\n",
       "      <td>Sometimes</td>\n",
       "      <td>no</td>\n",
       "      <td>2.0</td>\n",
       "      <td>no</td>\n",
       "      <td>0.0</td>\n",
       "      <td>0.0</td>\n",
       "      <td>Sometimes</td>\n",
       "      <td>Public_Transportation</td>\n",
       "      <td>Overweight_Level_II</td>\n",
       "    </tr>\n",
       "  </tbody>\n",
       "</table>\n",
       "</div>"
      ],
      "text/plain": [
       "   Gender  Age  Height  Weight family_history_with_overweight FAVC  FCVC  NCP  \\\n",
       "0  Female   21    1.62    64.0                            yes   no   2.0  3.0   \n",
       "1  Female   21    1.52    56.0                            yes   no   3.0  3.0   \n",
       "2    Male   23    1.80    77.0                            yes   no   2.0  3.0   \n",
       "3    Male   27    1.80    87.0                             no   no   3.0  3.0   \n",
       "4    Male   22    1.78    89.8                             no   no   2.0  1.0   \n",
       "\n",
       "        CAEC SMOKE  CH2O  SCC  FAF  TUE        CALC                 MTRANS  \\\n",
       "0  Sometimes    no   2.0   no  0.0  1.0          no  Public_Transportation   \n",
       "1  Sometimes   yes   3.0  yes  3.0  0.0   Sometimes  Public_Transportation   \n",
       "2  Sometimes    no   2.0   no  2.0  1.0  Frequently  Public_Transportation   \n",
       "3  Sometimes    no   2.0   no  2.0  0.0  Frequently                Walking   \n",
       "4  Sometimes    no   2.0   no  0.0  0.0   Sometimes  Public_Transportation   \n",
       "\n",
       "            NObeyesdad  \n",
       "0        Normal_Weight  \n",
       "1        Normal_Weight  \n",
       "2        Normal_Weight  \n",
       "3   Overweight_Level_I  \n",
       "4  Overweight_Level_II  "
      ]
     },
     "execution_count": 3,
     "metadata": {},
     "output_type": "execute_result"
    }
   ],
   "source": [
    "df.head()"
   ]
  },
  {
   "cell_type": "code",
   "execution_count": 4,
   "id": "1af46481-c4b7-4863-a495-951123f97ef5",
   "metadata": {},
   "outputs": [
    {
     "data": {
      "text/plain": [
       "MTRANS\n",
       "Public_Transportation    1580\n",
       "Automobile                457\n",
       "Walking                    56\n",
       "Motorbike                  11\n",
       "Bike                        7\n",
       "Name: count, dtype: int64"
      ]
     },
     "execution_count": 4,
     "metadata": {},
     "output_type": "execute_result"
    }
   ],
   "source": [
    "df.MTRANS.value_counts()"
   ]
  },
  {
   "cell_type": "code",
   "execution_count": 5,
   "id": "286c0503-67d8-4824-a4c8-58a24b048430",
   "metadata": {},
   "outputs": [
    {
     "data": {
      "text/plain": [
       "NObeyesdad\n",
       "Obesity_Type_I         351\n",
       "Obesity_Type_III       324\n",
       "Obesity_Type_II        297\n",
       "Overweight_Level_I     290\n",
       "Overweight_Level_II    290\n",
       "Normal_Weight          287\n",
       "Insufficient_Weight    272\n",
       "Name: count, dtype: int64"
      ]
     },
     "execution_count": 5,
     "metadata": {},
     "output_type": "execute_result"
    }
   ],
   "source": [
    "df.NObeyesdad.value_counts()"
   ]
  },
  {
   "cell_type": "code",
   "execution_count": 6,
   "id": "0adf17d7-bfcf-4796-98aa-16a193a31076",
   "metadata": {},
   "outputs": [
    {
     "data": {
      "text/plain": [
       "MTRANS                 NObeyesdad         \n",
       "Public_Transportation  Obesity_Type_III       323\n",
       "                       Obesity_Type_I         236\n",
       "                       Insufficient_Weight    220\n",
       "                       Overweight_Level_I     212\n",
       "                       Obesity_Type_II        200\n",
       "                       Normal_Weight          200\n",
       "                       Overweight_Level_II    189\n",
       "Automobile             Obesity_Type_I         110\n",
       "                       Obesity_Type_II         95\n",
       "                       Overweight_Level_II     94\n",
       "                       Overweight_Level_I      66\n",
       "                       Insufficient_Weight     46\n",
       "                       Normal_Weight           45\n",
       "Walking                Normal_Weight           32\n",
       "                       Overweight_Level_I       9\n",
       "                       Insufficient_Weight      6\n",
       "                       Overweight_Level_II      6\n",
       "Motorbike              Normal_Weight            6\n",
       "Bike                   Normal_Weight            4\n",
       "Motorbike              Obesity_Type_I           3\n",
       "Bike                   Overweight_Level_I       2\n",
       "Walking                Obesity_Type_I           2\n",
       "Motorbike              Overweight_Level_I       1\n",
       "Bike                   Obesity_Type_II          1\n",
       "Walking                Obesity_Type_II          1\n",
       "Automobile             Obesity_Type_III         1\n",
       "Motorbike              Overweight_Level_II      1\n",
       "Name: count, dtype: int64"
      ]
     },
     "execution_count": 6,
     "metadata": {},
     "output_type": "execute_result"
    }
   ],
   "source": [
    "df[[\"MTRANS\",\"NObeyesdad\"]].value_counts()"
   ]
  },
  {
   "cell_type": "code",
   "execution_count": 7,
   "id": "fbcf3857-99c3-42ff-ada4-9d5522b9ba5d",
   "metadata": {},
   "outputs": [
    {
     "name": "stdout",
     "output_type": "stream",
     "text": [
      "NObeyesdad             Insufficient_Weight  Normal_Weight  Obesity_Type_I  \\\n",
      "MTRANS                                                                      \n",
      "Automobile                              46             45             110   \n",
      "Bike                                     0              4               0   \n",
      "Motorbike                                0              6               3   \n",
      "Public_Transportation                  220            200             236   \n",
      "Walking                                  6             32               2   \n",
      "\n",
      "NObeyesdad             Obesity_Type_II  Obesity_Type_III  Overweight_Level_I  \\\n",
      "MTRANS                                                                         \n",
      "Automobile                          95                 1                  66   \n",
      "Bike                                 1                 0                   2   \n",
      "Motorbike                            0                 0                   1   \n",
      "Public_Transportation              200               323                 212   \n",
      "Walking                              1                 0                   9   \n",
      "\n",
      "NObeyesdad             Overweight_Level_II  \n",
      "MTRANS                                      \n",
      "Automobile                              94  \n",
      "Bike                                     0  \n",
      "Motorbike                                1  \n",
      "Public_Transportation                  189  \n",
      "Walking                                  6  \n",
      "NObeyesdad             Insufficient_Weight  Normal_Weight  Obesity_Type_I  \\\n",
      "MTRANS                                                                      \n",
      "Automobile                        0.100656       0.098468        0.240700   \n",
      "Bike                              0.000000       0.571429        0.000000   \n",
      "Motorbike                         0.000000       0.545455        0.272727   \n",
      "Public_Transportation             0.139241       0.126582        0.149367   \n",
      "Walking                           0.107143       0.571429        0.035714   \n",
      "\n",
      "NObeyesdad             Obesity_Type_II  Obesity_Type_III  Overweight_Level_I  \\\n",
      "MTRANS                                                                         \n",
      "Automobile                    0.207877          0.002188            0.144420   \n",
      "Bike                          0.142857          0.000000            0.285714   \n",
      "Motorbike                     0.000000          0.000000            0.090909   \n",
      "Public_Transportation         0.126582          0.204430            0.134177   \n",
      "Walking                       0.017857          0.000000            0.160714   \n",
      "\n",
      "NObeyesdad             Overweight_Level_II  \n",
      "MTRANS                                      \n",
      "Automobile                        0.205689  \n",
      "Bike                              0.000000  \n",
      "Motorbike                         0.090909  \n",
      "Public_Transportation             0.119620  \n",
      "Walking                           0.107143  \n"
     ]
    }
   ],
   "source": [
    "\n",
    "\n",
    "# Crosstab for counts\n",
    "ct = pd.crosstab(df['MTRANS'], df['NObeyesdad'])\n",
    "print(ct)\n",
    "\n",
    "# Crosstab for proportions\n",
    "ct_norm = pd.crosstab(df['MTRANS'], df['NObeyesdad'], normalize='index')\n",
    "print(ct_norm)\n"
   ]
  },
  {
   "cell_type": "code",
   "execution_count": 8,
   "id": "a8b1ac7f-315b-494b-a0f4-15d6ab88119e",
   "metadata": {},
   "outputs": [
    {
     "data": {
      "image/png": "[encoded data removed]",
      "text/plain": [
       "<Figure size 1000x600 with 1 Axes>"
      ]
     },
     "metadata": {},
     "output_type": "display_data"
    }
   ],
   "source": [
    "import matplotlib.pyplot as plt\n",
    "\n",
    "ct.plot(kind='bar', stacked=True, figsize=(10,6), colormap='viridis')\n",
    "plt.title(\"Obesity Levels by Mode of Transport\")\n",
    "plt.ylabel(\"Count\")\n",
    "plt.xlabel(\"Mode of Transport\")\n",
    "plt.legend(title=\"Obesity Level\", bbox_to_anchor=(1.05, 1))\n",
    "plt.show()\n"
   ]
  },
  {
   "cell_type": "code",
   "execution_count": null,
   "id": "237c0398-b1e4-40e3-ba08-8cb00db48ede",
   "metadata": {},
   "outputs": [],
   "source": []
  }
 ],
 "metadata": {
  "kernelspec": {
   "display_name": "Python 3 (ipykernel)",
   "language": "python",
   "name": "python3"
  },
  "language_info": {
   "codemirror_mode": {
    "name": "ipython",
    "version": 3
   },
   "file_extension": ".py",
   "mimetype": "text/x-python",
   "name": "python",
   "nbconvert_exporter": "python",
   "pygments_lexer": "ipython3",
   "version": "3.11.7"
  }
 },
 "nbformat": 4,
 "nbformat_minor": 5
}
